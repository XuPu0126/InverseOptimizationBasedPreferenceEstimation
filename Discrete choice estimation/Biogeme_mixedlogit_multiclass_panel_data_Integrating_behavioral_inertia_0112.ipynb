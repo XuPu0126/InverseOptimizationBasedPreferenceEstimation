{
 "cells": [
  {
   "cell_type": "code",
   "execution_count": null,
   "id": "c75805ef",
   "metadata": {},
   "outputs": [],
   "source": [
    "'''\n",
    "Estimation from econometric models of discrete choice using multiclass individuals’panel travel behavior data.\n",
    "Integrate the behavioral inertia attribute into the generalized travel cost for individuals.\n",
    "Mixed logit model.\n",
    "'''\n",
    "import pandas as pd\n",
    "import biogeme.database as db\n",
    "import biogeme.biogeme as bio\n",
    "from biogeme import models\n",
    "import biogeme.messaging as msg\n",
    "from biogeme.expressions import Beta, DefineVariable, bioDraws, log, MonteCarlo, PanelLikelihoodTrajectory\n",
    "\n",
    "#Read the data(commuter_data_discrete_choice_estimation.csv)\n",
    "df = pd.read_csv('commuter_data_discrete_choice_estimation.csv').sort_values(by='GRANT_CARD_CODE')\n",
    "database = db.Database('panel_commuter_data', df)\n",
    "globals().update(database.variables)"
   ]
  },
  {
   "cell_type": "code",
   "execution_count": null,
   "id": "75aec5bd",
   "metadata": {},
   "outputs": [],
   "source": [
    "#Parameters to be estimated\n",
    "#Define random parameters, normally distributed, designed to be used for Monte-Carlo simulation.\n",
    "B_alpha = Beta(\"B_alpha\",0,None,None,0)\n",
    "B_beta = Beta(\"B_beta\",0,None,None,0)\n",
    "B_gamma = Beta(\"B_gamma\",0,None,None,0)\n",
    "B_g0 = Beta(\"B_g0\",0,None,None,0)\n",
    "B_pcc = Beta(\"B_pcc\",0,None,None,0)\n",
    "\n",
    "B_alpha_S = Beta('B_alpha_S',0, None, None, 0)\n",
    "B_alpha_RND = B_alpha + B_alpha_S * bioDraws('B_alpha_RND','NORMAL')\n",
    "B_beta_S = Beta('B_beta_S',0, None, None, 0)\n",
    "B_beta_RND = B_beta + B_beta_S * bioDraws('B_beta_RND','NORMAL')\n",
    "B_gamma_S = Beta('B_gamma_S',0, None, None, 0)\n",
    "B_gamma_RND = B_gamma + B_gamma_S * bioDraws('B_gamma_RND','NORMAL')\n",
    "B_g0_S = Beta('B_g0_S',0, None, None, 0)\n",
    "B_g0_RND = B_g0 + B_g0_S * bioDraws('B_g0_RND','NORMAL')\n",
    "B_pcc_S = Beta('B_pcc_S',0, None, None, 0)\n",
    "B_pcc_RND = B_pcc + B_pcc_S * bioDraws('B_pcc_RND','NORMAL')"
   ]
  },
  {
   "cell_type": "code",
   "execution_count": 4,
   "id": "34c2d201",
   "metadata": {},
   "outputs": [],
   "source": [
    "#Definition of the utility functions of train alternatives\n",
    "V1 = B_alpha_RND * TRIPTIME_TYPE_1 + B_beta_RND * TE_1 + B_gamma_RND * TL_1 + B_g0_RND * crowding_cost_1 + B_pcc_RND * PCC_1\n",
    "V2 = B_alpha_RND * TRIPTIME_TYPE_2 + B_beta_RND * TE_2 + B_gamma_RND * TL_2 + B_g0_RND * crowding_cost_2 + B_pcc_RND * PCC_2 \n",
    "V3 = B_alpha_RND * TRIPTIME_TYPE_3 + B_beta_RND * TE_3 + B_gamma_RND * TL_3 + B_g0_RND * crowding_cost_3 + B_pcc_RND * PCC_3\n",
    "V4 = B_alpha_RND * TRIPTIME_TYPE_4 + B_beta_RND * TE_4 + B_gamma_RND * TL_4 + B_g0_RND * crowding_cost_4 + B_pcc_RND * PCC_4\n",
    "V5 = B_alpha_RND * TRIPTIME_TYPE_5 + B_beta_RND * TE_5 + B_gamma_RND * TL_5 + B_g0_RND * crowding_cost_5 + B_pcc_RND * PCC_5\n",
    "V6 = B_alpha_RND * TRIPTIME_TYPE_6 + B_beta_RND * TE_6 + B_gamma_RND * TL_6 + B_g0_RND * crowding_cost_6 + B_pcc_RND * PCC_6 \n",
    "V7 = B_alpha_RND * TRIPTIME_TYPE_7 + B_beta_RND * TE_7 + B_gamma_RND * TL_7 + B_g0_RND * crowding_cost_7 + B_pcc_RND * PCC_7\n",
    "V8 = B_alpha_RND * TRIPTIME_TYPE_8 + B_beta_RND * TE_8 + B_gamma_RND * TL_8 + B_g0_RND * crowding_cost_8 + B_pcc_RND * PCC_8\n",
    "V9 = B_alpha_RND * TRIPTIME_TYPE_9 + B_beta_RND * TE_9 + B_gamma_RND * TL_9 + B_g0_RND * crowding_cost_9 + B_pcc_RND * PCC_9 \n",
    "V10 = B_alpha_RND * TRIPTIME_TYPE_10 + B_beta_RND * TE_10 + B_gamma_RND * TL_10 + B_g0_RND * crowding_cost_10 + B_pcc_RND * PCC_10 \n",
    "V11 = B_alpha_RND * TRIPTIME_TYPE_11 + B_beta_RND * TE_11 + B_gamma_RND * TL_11 + B_g0_RND * crowding_cost_11 + B_pcc_RND * PCC_11 \n",
    "V12 = B_alpha_RND * TRIPTIME_TYPE_12 + B_beta_RND * TE_12 + B_gamma_RND * TL_12 + B_g0_RND * crowding_cost_12 + B_pcc_RND * PCC_12 \n",
    "V13 = B_alpha_RND * TRIPTIME_TYPE_13 + B_beta_RND * TE_13 + B_gamma_RND * TL_13 + B_g0_RND * crowding_cost_13 + B_pcc_RND * PCC_13 \n",
    "V14 = B_alpha_RND * TRIPTIME_TYPE_14 + B_beta_RND * TE_14 + B_gamma_RND * TL_14 + B_g0_RND * crowding_cost_14 + B_pcc_RND * PCC_14 \n",
    "V15 = B_alpha_RND * TRIPTIME_TYPE_15 + B_beta_RND * TE_15 + B_gamma_RND * TL_15 + B_g0_RND * crowding_cost_15 + B_pcc_RND * PCC_15 \n",
    "V16 = B_alpha_RND * TRIPTIME_TYPE_16 + B_beta_RND * TE_16 + B_gamma_RND * TL_16 + B_g0_RND * crowding_cost_16 + B_pcc_RND * PCC_16 \n",
    "V17 = B_alpha_RND * TRIPTIME_TYPE_17 + B_beta_RND * TE_17 + B_gamma_RND * TL_17 + B_g0_RND * crowding_cost_17 + B_pcc_RND * PCC_17 \n",
    "V18 = B_alpha_RND * TRIPTIME_TYPE_18 + B_beta_RND * TE_18 + B_gamma_RND * TL_18 + B_g0_RND * crowding_cost_18 + B_pcc_RND * PCC_18 \n",
    "V19 = B_alpha_RND * TRIPTIME_TYPE_19 + B_beta_RND * TE_19 + B_gamma_RND * TL_19 + B_g0_RND * crowding_cost_19 + B_pcc_RND * PCC_19 \n",
    "V20 = B_alpha_RND * TRIPTIME_TYPE_20 + B_beta_RND * TE_20 + B_gamma_RND * TL_20 + B_g0_RND * crowding_cost_20 + B_pcc_RND * PCC_20 \n",
    "V21 = B_alpha_RND * TRIPTIME_TYPE_21 + B_beta_RND * TE_21 + B_gamma_RND * TL_21 + B_g0_RND * crowding_cost_21 + B_pcc_RND * PCC_21 \n",
    "V22 = B_alpha_RND * TRIPTIME_TYPE_22 + B_beta_RND * TE_22 + B_gamma_RND * TL_22 + B_g0_RND * crowding_cost_22 + B_pcc_RND * PCC_22 \n",
    "V23 = B_alpha_RND * TRIPTIME_TYPE_23 + B_beta_RND * TE_23 + B_gamma_RND * TL_23 + B_g0_RND * crowding_cost_23 + B_pcc_RND * PCC_23 \n",
    "V24 = B_alpha_RND * TRIPTIME_TYPE_24 + B_beta_RND * TE_24 + B_gamma_RND * TL_24 + B_g0_RND * crowding_cost_24 + B_pcc_RND * PCC_24 \n",
    "V25 = B_alpha_RND * TRIPTIME_TYPE_25 + B_beta_RND * TE_25 + B_gamma_RND * TL_25 + B_g0_RND * crowding_cost_25 + B_pcc_RND * PCC_25 \n",
    "V26 = B_alpha_RND * TRIPTIME_TYPE_26 + B_beta_RND * TE_26 + B_gamma_RND * TL_26 + B_g0_RND * crowding_cost_26 + B_pcc_RND * PCC_26 \n",
    "V27 = B_alpha_RND * TRIPTIME_TYPE_27 + B_beta_RND * TE_27 + B_gamma_RND * TL_27 + B_g0_RND * crowding_cost_27 + B_pcc_RND * PCC_27 \n",
    "V28 = B_alpha_RND * TRIPTIME_TYPE_28 + B_beta_RND * TE_28 + B_gamma_RND * TL_28 + B_g0_RND * crowding_cost_28 + B_pcc_RND * PCC_28 \n",
    "V29 = B_alpha_RND * TRIPTIME_TYPE_29 + B_beta_RND * TE_29 + B_gamma_RND * TL_29 + B_g0_RND * crowding_cost_29 + B_pcc_RND * PCC_29 \n",
    "V30 = B_alpha_RND * TRIPTIME_TYPE_30 + B_beta_RND * TE_30 + B_gamma_RND * TL_30 + B_g0_RND * crowding_cost_30 + B_pcc_RND * PCC_30 \n",
    "V31 = B_alpha_RND * TRIPTIME_TYPE_31 + B_beta_RND * TE_31 + B_gamma_RND * TL_31 + B_g0_RND * crowding_cost_31 + B_pcc_RND * PCC_31 \n",
    "V32 = B_alpha_RND * TRIPTIME_TYPE_32 + B_beta_RND * TE_32 + B_gamma_RND * TL_32 + B_g0_RND * crowding_cost_32 + B_pcc_RND * PCC_32 \n",
    "V33 = B_alpha_RND * TRIPTIME_TYPE_33 + B_beta_RND * TE_33 + B_gamma_RND * TL_33 + B_g0_RND * crowding_cost_33 + B_pcc_RND * PCC_33 \n",
    "V34 = B_alpha_RND * TRIPTIME_TYPE_34 + B_beta_RND * TE_34 + B_gamma_RND * TL_34 + B_g0_RND * crowding_cost_34 + B_pcc_RND * PCC_34 \n",
    "V35 = B_alpha_RND * TRIPTIME_TYPE_35 + B_beta_RND * TE_35 + B_gamma_RND * TL_35 + B_g0_RND * crowding_cost_35 + B_pcc_RND * PCC_35 \n",
    "V36 = B_alpha_RND * TRIPTIME_TYPE_36 + B_beta_RND * TE_36 + B_gamma_RND * TL_36 + B_g0_RND * crowding_cost_36 + B_pcc_RND * PCC_36 \n",
    "V37 = B_alpha_RND * TRIPTIME_TYPE_37 + B_beta_RND * TE_37 + B_gamma_RND * TL_37 + B_g0_RND * crowding_cost_37 + B_pcc_RND * PCC_37 \n",
    "V38 = B_alpha_RND * TRIPTIME_TYPE_38 + B_beta_RND * TE_38 + B_gamma_RND * TL_38 + B_g0_RND * crowding_cost_38 + B_pcc_RND * PCC_38 \n",
    "V39 = B_alpha_RND * TRIPTIME_TYPE_39 + B_beta_RND * TE_39 + B_gamma_RND * TL_39 + B_g0_RND * crowding_cost_39 + B_pcc_RND * PCC_39 \n",
    "V40 = B_alpha_RND * TRIPTIME_TYPE_40 + B_beta_RND * TE_40 + B_gamma_RND * TL_40 + B_g0_RND * crowding_cost_40 + B_pcc_RND * PCC_40 \n",
    "V41 = B_alpha_RND * TRIPTIME_TYPE_41 + B_beta_RND * TE_41 + B_gamma_RND * TL_41 + B_g0_RND * crowding_cost_41 + B_pcc_RND * PCC_41 \n",
    "V42 = B_alpha_RND * TRIPTIME_TYPE_42 + B_beta_RND * TE_42 + B_gamma_RND * TL_42 + B_g0_RND * crowding_cost_42 + B_pcc_RND * PCC_42 \n",
    "V43 = B_alpha_RND * TRIPTIME_TYPE_43 + B_beta_RND * TE_43 + B_gamma_RND * TL_43 + B_g0_RND * crowding_cost_43 + B_pcc_RND * PCC_43 \n",
    "V44 = B_alpha_RND * TRIPTIME_TYPE_44 + B_beta_RND * TE_44 + B_gamma_RND * TL_44 + B_g0_RND * crowding_cost_44 + B_pcc_RND * PCC_44 \n",
    "V45 = B_alpha_RND * TRIPTIME_TYPE_45 + B_beta_RND * TE_45 + B_gamma_RND * TL_45 + B_g0_RND * crowding_cost_45 + B_pcc_RND * PCC_45 \n",
    "V46 = B_alpha_RND * TRIPTIME_TYPE_46 + B_beta_RND * TE_46 + B_gamma_RND * TL_46 + B_g0_RND * crowding_cost_46 + B_pcc_RND * PCC_46 "
   ]
  },
  {
   "cell_type": "code",
   "execution_count": null,
   "id": "b618aa9e",
   "metadata": {},
   "outputs": [],
   "source": [
    "#Associate utility functions with the numbering of alternatives\n",
    "V = {1: -V1, 2: -V2, 3: -V3, 4: -V4, 5: -V5, 6: -V6, 7: -V7, 8: -V8, 9: -V9, 10: -V10, 11: -V11, 12: -V12, 13: -V13, 14: -V14, 15: -V15, 16: -V16, 17: -V17, 18: -V18, 19: -V19, 20: -V20, 21: -V21, 22: -V22, 23: -V23, 24: -V24, 25: -V25, 26: -V26, 27: -V27, 28: -V28, 29: -V29, 30: -V30, 31: -V31, 32:-V32, 33: -V33, 34: -V34, 35: -V35, 36:-V36, 37: -V37, 38: -V38, 39: -V39, 40: -V40, 41: -V41, 42: -V42, 43: -V43, 44: -V44, 45: -V45, 46: -V46}"
   ]
  },
  {
   "cell_type": "code",
   "execution_count": null,
   "id": "87c662f0",
   "metadata": {},
   "outputs": [],
   "source": [
    "#Associate the availability conditions with the alternatives\n",
    "av = {1:AV_1,2:AV_2,3:AV_3,4:AV_4,5:AV_5,6:AV_6,7:AV_7,8:AV_8,9:AV_9,10:AV_10,11:AV_11,12:AV_12,13:AV_13,14:AV_14,15:AV_15,16:AV_16,17:AV_17,18:AV_18,19:AV_19,20:AV_20,21:AV_21,22:AV_22,23:AV_23,24:AV_24,25:AV_25,26:AV_26,27:AV_27,28:AV_28,29:AV_29,30:AV_30,31:AV_31,32:AV_32,33:AV_33,34:AV_34,35:AV_35,36:AV_36,37:AV_37,38:AV_38,39:AV_39,40:AV_40,41:AV_41,42:AV_42,43:AV_43,44:AV_44,45:AV_45,46:AV_46}"
   ]
  },
  {
   "cell_type": "code",
   "execution_count": 5,
   "id": "3dc56f29",
   "metadata": {},
   "outputs": [
    {
     "name": "stdout",
     "output_type": "stream",
     "text": [
      "[23:03:03] < General >   Remove 59 unused variables from the database as only 277 are used.\n"
     ]
    }
   ],
   "source": [
    "#Integrate using Monte-Carlo\n",
    "prob = models.logit(V, av, CHOICE)\n",
    "logprob = log(MonteCarlo(prob))\n",
    "logger = msg.bioMessage()\n",
    "logger.setGeneral()\n",
    "userNotes = (\n",
    "    'Estimation from econometric models of discrete choice using individuals’panel travel behavior data,'\n",
    "    'Integrate the behavioral inertia attribute into the generalized travel cost for individuals,'\n",
    "    'Mixed logit model,'\n",
    "    'approximated using Monte-Carlo integration integration with Halton draws.'\n",
    ")"
   ]
  },
  {
   "cell_type": "code",
   "execution_count": null,
   "id": "d1cf42ad",
   "metadata": {},
   "outputs": [],
   "source": [
    "# Create the Biogeme object\n",
    "biogeme = bio.BIOGEME(database, logprob, numberOfDraws = 1000, userNotes=userNotes)\n",
    "biogeme.modelName = 'Mixture_panel_inertia'"
   ]
  },
  {
   "cell_type": "code",
   "execution_count": null,
   "id": "f8352bdf",
   "metadata": {},
   "outputs": [],
   "source": [
    "#Estimate the parameters\n",
    "results=biogeme.estimate()\n",
    "print(results)"
   ]
  },
  {
   "cell_type": "code",
   "execution_count": null,
   "id": "0431d4a4",
   "metadata": {},
   "outputs": [],
   "source": [
    "#Get the results in a pandas table\n",
    "pandasResults=results.getEstimatedParameters()\n",
    "print(pandasResults)"
   ]
  }
 ],
 "metadata": {
  "kernelspec": {
   "display_name": "Python 3",
   "language": "python",
   "name": "python3"
  },
  "language_info": {
   "codemirror_mode": {
    "name": "ipython",
    "version": 3
   },
   "file_extension": ".py",
   "mimetype": "text/x-python",
   "name": "python",
   "nbconvert_exporter": "python",
   "pygments_lexer": "ipython3",
   "version": "3.8.8"
  }
 },
 "nbformat": 4,
 "nbformat_minor": 5
}
