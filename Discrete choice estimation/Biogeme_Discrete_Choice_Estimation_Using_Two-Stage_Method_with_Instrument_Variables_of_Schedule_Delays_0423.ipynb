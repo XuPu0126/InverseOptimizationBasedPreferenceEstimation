{
 "cells": [
  {
   "cell_type": "code",
   "execution_count": 1,
   "id": "9bf7c5ab",
   "metadata": {},
   "outputs": [],
   "source": [
    "import pandas as pd\n",
    "import biogeme.database as db\n",
    "import biogeme.biogeme as bio\n",
    "import biogeme.models as models\n",
    "from biogeme.expressions import Beta\n",
    "from biogeme.expressions import log\n",
    "from biogeme.expressions import exp"
   ]
  },
  {
   "cell_type": "code",
   "execution_count": 2,
   "id": "8c1e1fc8",
   "metadata": {},
   "outputs": [],
   "source": [
    "#Read the data(commuter_data_discrete_choice_estimation.csv)\n",
    "df = pd.read_csv(r'D:\\programming\\JupyterNotebook Files\\2S\\commuter_data_homogenenous_for_biogeme_0423.csv')\n",
    "database = db.Database(\"commuter_data\",df)\n",
    "globals().update(database.variables)"
   ]
  },
  {
   "cell_type": "code",
   "execution_count": 3,
   "id": "49960afa",
   "metadata": {},
   "outputs": [],
   "source": [
    "#Parameters to be estimated\n",
    "B_alpha = Beta(\"B_alpha\",0,None,None,0)\n",
    "B_beta = Beta(\"B_beta\",0,None,None,0)\n",
    "B_gamma = Beta(\"B_gamma\",0,None,None,0)\n",
    "B_diff = Beta(\"B_diff\",0,None,None,0) #B_be-B_bl"
   ]
  },
  {
   "cell_type": "code",
   "execution_count": 4,
   "id": "c2e2a786",
   "metadata": {},
   "outputs": [],
   "source": [
    "#Definition of the utility functions of train alternatives\n",
    "V1=B_alpha*TRIPTIME_TYPE_1+B_beta*TE_1+B_gamma*TL_1+B_diff\n",
    "V2=B_alpha*TRIPTIME_TYPE_2+B_beta*TE_2+B_gamma*TL_2+B_diff\n",
    "V3=B_alpha*TRIPTIME_TYPE_3+B_beta*TE_3+B_gamma*TL_3+B_diff\n",
    "V4=B_alpha*TRIPTIME_TYPE_4+B_beta*TE_4+B_gamma*TL_4+B_diff\n",
    "V5=B_alpha*TRIPTIME_TYPE_5+B_beta*TE_5+B_gamma*TL_5+B_diff\n",
    "V6=B_alpha*TRIPTIME_TYPE_6+B_beta*TE_6+B_gamma*TL_6+B_diff\n",
    "V7=B_alpha*TRIPTIME_TYPE_7+B_beta*TE_7+B_gamma*TL_7+B_diff\n",
    "V8=B_alpha*TRIPTIME_TYPE_8+B_beta*TE_8+B_gamma*TL_8+B_diff\n",
    "V9=B_alpha*TRIPTIME_TYPE_9+B_beta*TE_9+B_gamma*TL_9+B_diff\n",
    "V10=B_alpha*TRIPTIME_TYPE_10+B_beta*TE_10+B_gamma*TL_10+B_diff\n",
    "V11=B_alpha*TRIPTIME_TYPE_11+B_beta*TE_11+B_gamma*TL_11+B_diff\n",
    "V12=B_alpha*TRIPTIME_TYPE_12+B_beta*TE_12+B_gamma*TL_12+B_diff\n",
    "V13=B_alpha*TRIPTIME_TYPE_13+B_beta*TE_13+B_gamma*TL_13+B_diff\n",
    "V14=B_alpha*TRIPTIME_TYPE_14+B_beta*TE_14+B_gamma*TL_14+B_diff\n",
    "V15=B_alpha*TRIPTIME_TYPE_15+B_beta*TE_15+B_gamma*TL_15+B_diff\n",
    "V16=B_alpha*TRIPTIME_TYPE_16+B_beta*TE_16+B_gamma*TL_16+B_diff\n",
    "V17=B_alpha*TRIPTIME_TYPE_17+B_beta*TE_17+B_gamma*TL_17+B_diff\n",
    "V18=B_alpha*TRIPTIME_TYPE_18+B_beta*TE_18+B_gamma*TL_18\n",
    "V19=B_alpha*TRIPTIME_TYPE_19+B_beta*TE_19+B_gamma*TL_19\n",
    "V20=B_alpha*TRIPTIME_TYPE_20+B_beta*TE_20+B_gamma*TL_20\n",
    "V21=B_alpha*TRIPTIME_TYPE_21+B_beta*TE_21+B_gamma*TL_21\n",
    "V22=B_alpha*TRIPTIME_TYPE_22+B_beta*TE_22+B_gamma*TL_22\n",
    "V23=B_alpha*TRIPTIME_TYPE_23+B_beta*TE_23+B_gamma*TL_23\n",
    "V24=B_alpha*TRIPTIME_TYPE_24+B_beta*TE_24+B_gamma*TL_24\n",
    "V25=B_alpha*TRIPTIME_TYPE_25+B_beta*TE_25+B_gamma*TL_25\n",
    "V26=B_alpha*TRIPTIME_TYPE_26+B_beta*TE_26+B_gamma*TL_26\n",
    "V27=B_alpha*TRIPTIME_TYPE_27+B_beta*TE_27+B_gamma*TL_27\n",
    "V28=B_alpha*TRIPTIME_TYPE_28+B_beta*TE_28+B_gamma*TL_28\n",
    "V29=B_alpha*TRIPTIME_TYPE_29+B_beta*TE_29+B_gamma*TL_29\n",
    "V30=B_alpha*TRIPTIME_TYPE_30+B_beta*TE_30+B_gamma*TL_30\n",
    "V31=B_alpha*TRIPTIME_TYPE_31+B_beta*TE_31+B_gamma*TL_31\n",
    "V32=B_alpha*TRIPTIME_TYPE_32+B_beta*TE_32+B_gamma*TL_32\n",
    "V33=B_alpha*TRIPTIME_TYPE_33+B_beta*TE_33+B_gamma*TL_33\n",
    "V34=B_alpha*TRIPTIME_TYPE_34+B_beta*TE_34+B_gamma*TL_34\n",
    "V35=B_alpha*TRIPTIME_TYPE_35+B_beta*TE_35+B_gamma*TL_35\n",
    "V36=B_alpha*TRIPTIME_TYPE_36+B_beta*TE_36+B_gamma*TL_36\n",
    "V37=B_alpha*TRIPTIME_TYPE_37+B_beta*TE_37+B_gamma*TL_37\n",
    "V38=B_alpha*TRIPTIME_TYPE_38+B_beta*TE_38+B_gamma*TL_38\n",
    "V39=B_alpha*TRIPTIME_TYPE_39+B_beta*TE_39+B_gamma*TL_39\n",
    "V40=B_alpha*TRIPTIME_TYPE_40+B_beta*TE_40+B_gamma*TL_40\n",
    "V41=B_alpha*TRIPTIME_TYPE_41+B_beta*TE_41+B_gamma*TL_41"
   ]
  },
  {
   "cell_type": "code",
   "execution_count": 5,
   "id": "b6d2dde3",
   "metadata": {},
   "outputs": [],
   "source": [
    "#Associate utility functions with the numbering of alternatives\n",
    "V = {3: -V3, 4: -V4, 5: -V5, 6: -V6, 7: -V7, 8: -V8, 9: -V9, 10: -V10, 11: -V11, 12: -V12, 13: -V13, 14: -V14, 15: -V15, 16: -V16, 17: -V17, 18: -V18, 19: -V19, 20: -V20, 21: -V21, 22: -V22, 23: -V23, 24: -V24, 25: -V25, 26: -V26, 27: -V27, 28: -V28, 29: -V29, 30: -V30, 31: -V31, 32:-V32, 33: -V33, 34: -V34, 35: -V35, 36:-V36, 37: -V37, 38: -V38, 39: -V39, 40: -V40, 41: -V41}"
   ]
  },
  {
   "cell_type": "code",
   "execution_count": 6,
   "id": "3786369c",
   "metadata": {},
   "outputs": [],
   "source": [
    "#Associate the availability conditions with the alternatives\n",
    "av = {3:AV_3,4:AV_4,5:AV_5,6:AV_6,7:AV_7,8:AV_8,9:AV_9,10:AV_10,11:AV_11,12:AV_12,13:AV_13,14:AV_14,15:AV_15,16:AV_16,17:AV_17,18:AV_18,19:AV_19,20:AV_20,21:AV_21,22:AV_22,23:AV_23,24:AV_24,25:AV_25,26:AV_26,27:AV_27,28:AV_28,29:AV_29,30:AV_30,31:AV_31,32:AV_32,33:AV_33,34:AV_34,35:AV_35,36:AV_36,37:AV_37,38:AV_38,39:AV_39,40:AV_40,41:AV_41}"
   ]
  },
  {
   "cell_type": "code",
   "execution_count": 7,
   "id": "e5e214ca",
   "metadata": {},
   "outputs": [],
   "source": [
    "#Definition of the model. This is the contribution of each observation to the log likelihood function\n",
    "logprob=models.loglogit(V,av,CHOICE)"
   ]
  },
  {
   "cell_type": "code",
   "execution_count": 8,
   "id": "2d3699f5",
   "metadata": {},
   "outputs": [],
   "source": [
    "#Create the Biogeme object\n",
    "biogeme=bio.BIOGEME(database,logprob)\n",
    "biogeme.modelName='stage 1'"
   ]
  },
  {
   "cell_type": "code",
   "execution_count": 9,
   "id": "2ec6c454",
   "metadata": {},
   "outputs": [
    {
     "name": "stdout",
     "output_type": "stream",
     "text": [
      "            Value   Std err     t-test       p-value  Rob. Std err  \\\n",
      "B_alpha -0.000138  0.000319  -0.432015  6.657308e-01      0.000325   \n",
      "B_beta   0.000779  0.000023  34.437611  0.000000e+00      0.000022   \n",
      "B_diff   0.296397  0.037572   7.888737  3.108624e-15      0.036622   \n",
      "B_gamma  0.000565  0.000024  23.687075  0.000000e+00      0.000024   \n",
      "\n",
      "         Rob. t-test  Rob. p-value  \n",
      "B_alpha    -0.424193  6.714253e-01  \n",
      "B_beta     36.131097  0.000000e+00  \n",
      "B_diff      8.093331  6.661338e-16  \n",
      "B_gamma    23.673755  0.000000e+00  \n"
     ]
    }
   ],
   "source": [
    "#Estimate the parameters\n",
    "results=biogeme.estimate()\n",
    "pandasResults=results.getEstimatedParameters()\n",
    "print(pandasResults)"
   ]
  },
  {
   "cell_type": "code",
   "execution_count": 10,
   "id": "31a7e5be",
   "metadata": {},
   "outputs": [
    {
     "name": "stdout",
     "output_type": "stream",
     "text": [
      "\n",
      "Results for model stage 1\n",
      "Output file (HTML):\t\t\tstage 1~17.html\n",
      "Nbr of parameters:\t\t4\n",
      "Sample size:\t\t\t7388\n",
      "Excluded data:\t\t\t0\n",
      "Init log likelihood:\t\t-24984.27\n",
      "Final log likelihood:\t\t-24984.27\n",
      "Likelihood ratio test (init):\t\t-0\n",
      "Rho square (init):\t\t\t0\n",
      "Rho bar square (init):\t\t\t-0.00016\n",
      "Akaike Information Criterion:\t49976.54\n",
      "Bayesian Information Criterion:\t50004.17\n",
      "Final gradient norm:\t\t0.02027729\n",
      "B_alpha        : -0.000138[0.000319 -0.432 0.666][0.000325 -0.424 0.671]\n",
      "B_beta         : 0.000779[2.26e-05 34.4 0][2.16e-05 36.1 0]\n",
      "B_diff         : 0.296[0.0376 7.89 3.11e-15][0.0366 8.09 6.66e-16]\n",
      "B_gamma        : 0.000565[2.38e-05 23.7 0][2.39e-05 23.7 0]\n",
      "('B_beta', 'B_alpha'):\t1.23e-09\t0.17\t2.9\t0.00374\t1.69e-09\t0.241\t2.86\t0.00425\n",
      "('B_diff', 'B_alpha'):\t1.01e-06\t0.0842\t7.9\t2.89e-15\t4.2e-07\t0.0352\t8.1\t4.44e-16\n",
      "('B_diff', 'B_beta'):\t-4.5e-07\t-0.53\t7.87\t3.77e-15\t-4e-07\t-0.506\t8.07\t6.66e-16\n",
      "('B_gamma', 'B_alpha'):\t6.61e-09\t0.868\t2.35\t0.0187\t6.76e-09\t0.872\t2.31\t0.0211\n",
      "('B_gamma', 'B_beta'):\t7.98e-11\t0.148\t-7.06\t1.65e-12\t1.09e-10\t0.211\t-7.5\t6.55e-14\n",
      "('B_gamma', 'B_diff'):\t3.01e-07\t0.336\t-7.88\t3.33e-15\t2.57e-07\t0.294\t-8.08\t6.66e-16\n",
      "\n"
     ]
    }
   ],
   "source": [
    "print(results)"
   ]
  },
  {
   "cell_type": "code",
   "execution_count": null,
   "id": "ce030861",
   "metadata": {},
   "outputs": [],
   "source": []
  }
 ],
 "metadata": {
  "kernelspec": {
   "display_name": "Python 3",
   "language": "python",
   "name": "python3"
  },
  "language_info": {
   "codemirror_mode": {
    "name": "ipython",
    "version": 3
   },
   "file_extension": ".py",
   "mimetype": "text/x-python",
   "name": "python",
   "nbconvert_exporter": "python",
   "pygments_lexer": "ipython3",
   "version": "3.8.8"
  }
 },
 "nbformat": 4,
 "nbformat_minor": 5
}
